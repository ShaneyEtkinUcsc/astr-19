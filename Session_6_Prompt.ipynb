{
 "cells": [
  {
   "cell_type": "markdown",
   "id": "b1679721-86cb-4593-9a4b-c539bfdfac5b",
   "metadata": {},
   "source": [
    "Import *numpy* and *tabulate* first\n",
    "\n",
    "This function returns **sin(x)**"
   ]
  },
  {
   "cell_type": "code",
   "execution_count": 10,
   "id": "35e2a280-2fbf-4ac0-bb5c-89b7fa593d6b",
   "metadata": {},
   "outputs": [],
   "source": [
    "import numpy as np\n",
    "from tabulate import tabulate\n",
    "\n",
    "def return_sin(x):\n",
    "    return np.sin(x)"
   ]
  },
  {
   "cell_type": "markdown",
   "id": "4d36fea3-8a7b-4215-b2f7-90796717c59f",
   "metadata": {},
   "source": [
    "This function returns **cos(x)**"
   ]
  },
  {
   "cell_type": "code",
   "execution_count": 11,
   "id": "ba7a5541-3165-4f55-8238-066fda41570e",
   "metadata": {},
   "outputs": [],
   "source": [
    "def return_cos(x):\n",
    "    return np.cos(x)"
   ]
  },
  {
   "cell_type": "markdown",
   "id": "45d4879d-2fa2-4a89-b5a3-2a847fb6a45a",
   "metadata": {},
   "source": [
    "**Tabulate sin(x) and cos(x) between 0 and 2pi with 1000 entries**"
   ]
  },
  {
   "cell_type": "code",
   "execution_count": 12,
   "id": "de2ec296-18ec-4827-bdc3-997ac49d1139",
   "metadata": {},
   "outputs": [],
   "source": [
    "two_pi = np.pi*2\n",
    "\n",
    "x = np.linspace(0.0,two_pi,1000)\n",
    "#i = return_sin(x)\n",
    "#j = return_cos(x)\n",
    "\n",
    "tabulate_xSinCos = [(a,b,c) for a,b,c in zip(x,return_sin(x),return_cos(x))]\n",
    "\n",
    "#print(tabulate(tabulate_xSinCos,tablefmt=\"grid\",floatfmt=\".3f\"))"
   ]
  },
  {
   "cell_type": "markdown",
   "id": "fc48f366-f4f3-4064-a6fa-70915e139a46",
   "metadata": {},
   "source": [
    "**Use a for loop to print the first 10 values of x, i, and j in columns**"
   ]
  },
  {
   "cell_type": "code",
   "execution_count": 14,
   "id": "03093506-02c4-4a31-a127-df8662aa1942",
   "metadata": {},
   "outputs": [
    {
     "name": "stdout",
     "output_type": "stream",
     "text": [
      "+-------+----------+----------+\n",
      "|     x |   sin(x) |   cos(x) |\n",
      "+=======+==========+==========+\n",
      "| 0.000 |    0.000 |    1.000 |\n",
      "+-------+----------+----------+\n",
      "| 0.006 |    0.006 |    1.000 |\n",
      "+-------+----------+----------+\n",
      "| 0.013 |    0.013 |    1.000 |\n",
      "+-------+----------+----------+\n",
      "| 0.019 |    0.019 |    1.000 |\n",
      "+-------+----------+----------+\n",
      "| 0.025 |    0.025 |    1.000 |\n",
      "+-------+----------+----------+\n",
      "| 0.031 |    0.031 |    1.000 |\n",
      "+-------+----------+----------+\n",
      "| 0.038 |    0.038 |    0.999 |\n",
      "+-------+----------+----------+\n",
      "| 0.044 |    0.044 |    0.999 |\n",
      "+-------+----------+----------+\n",
      "| 0.050 |    0.050 |    0.999 |\n",
      "+-------+----------+----------+\n",
      "| 0.057 |    0.057 |    0.998 |\n",
      "+-------+----------+----------+\n"
     ]
    }
   ],
   "source": [
    "new_x = []\n",
    "#new_sin = []\n",
    "#new_cos = []\n",
    "\n",
    "for num in range(0,10):\n",
    "    new_x.append(x[num])\n",
    "    \n",
    "    #new_sin.append(i[num])\n",
    "    #new_cos.append(j[num])\n",
    "\n",
    "table_first_ten = [(a,b,c) for a,b,c in zip(new_x,return_sin(new_x),return_cos(new_x))]\n",
    "table_headers = ['x','sin(x)','cos(x)']\n",
    "print(tabulate(table_first_ten,tablefmt=\"grid\",headers=table_headers,floatfmt=\".3f\"))"
   ]
  }
 ],
 "metadata": {
  "kernelspec": {
   "display_name": "Python 3 (ipykernel)",
   "language": "python",
   "name": "python3"
  },
  "language_info": {
   "codemirror_mode": {
    "name": "ipython",
    "version": 3
   },
   "file_extension": ".py",
   "mimetype": "text/x-python",
   "name": "python",
   "nbconvert_exporter": "python",
   "pygments_lexer": "ipython3",
   "version": "3.12.1"
  }
 },
 "nbformat": 4,
 "nbformat_minor": 5
}
